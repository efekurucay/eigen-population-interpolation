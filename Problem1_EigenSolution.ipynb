# Problem 1 – Recurrence Relation & Eigenvalue Method

# Given: x0 = 2, x1 = 1, recurrence: x_{n+2} = -x_{n+1} + 2x_n
# Goal: Find the general term x_n

import sympy as sp
import matplotlib.pyplot as plt

# Define recurrence matrix A
A = sp.Matrix([[0, 1], [2, -1]])

# Eigen decomposition
eigenvals = A.eigenvals()
eigenvects = A.eigenvects()

print("Eigenvalues:", eigenvals)
print("Eigenvectors:")
for val, mult, vect in eigenvects:
    print(f"{val}: {vect}")

# General solution: x_n = c1*(1)^n + c2*(-2)^n
n = sp.symbols('n')
c1, c2 = sp.symbols('c1 c2')
xn = c1 * (1)**n + c2 * (-2)**n

# Initial conditions:
# x0 = 2 => c1 + c2 = 2
# x1 = 1 => c1 - 2*c2 = 1
sol = sp.solve([c1 + c2 - 2, c1 - 2*c2 - 1], (c1, c2))
print("Constants:", sol)

# Final expression
xn_expr = xn.subs(sol)
print("General Term x_n:", xn_expr)

# Plotting the first 10 terms
f = sp.lambdify(n, xn_expr, modules='numpy')
x_vals = list(range(10))
y_vals = [f(i) for i in x_vals]

plt.figure(figsize=(8, 5))
plt.plot(x_vals, y_vals, marker='o')
plt.title("Recurrence Sequence x_n")
plt.xlabel("n")
plt.ylabel("x_n")
plt.grid(True)
plt.show()
