{
 "cells": [
  {
   "cell_type": "markdown",
   "metadata": {},
   "source": [
    "# Problem 1 – Recurrence Relation & Eigenvalue Method"
   ]
  },
  {
   "cell_type": "code",
   "execution_count": null,
   "metadata": {},
   "outputs": [],
   "source": [
    "import sympy as sp\n",
    "import matplotlib.pyplot as plt\n",
    "\n",
    "A = sp.Matrix([[0, 1], [2, -1]])\n",
    "eigenvals = A.eigenvals()\n",
    "eigenvects = A.eigenvects()\n",
    "print(\"Eigenvalues:\", eigenvals)\n",
    "print(\"Eigenvectors:\")\n",
    "for val, mult, vect in eigenvects:\n",
    "    print(f\"{val}: {vect}\")\n",
    "\n",
    "n = sp.symbols('n')\n",
    "c1, c2 = sp.symbols('c1 c2')\n",
    "xn = c1 * (1)**n + c2 * (-2)**n\n",
    "\n",
    "sol = sp.solve([c1 + c2 - 2, c1 - 2*c2 - 1], (c1, c2))\n",
    "print(\"Constants:\", sol)\n",
    "\n",
    "xn_expr = xn.subs(sol)\n",
    "print(\"General Term x_n:\", xn_expr)\n",
    "\n",
    "f = sp.lambdify(n, xn_expr, modules='numpy')\n",
    "x_vals = list(range(10))\n",
    "y_vals = [f(i) for i in x_vals]\n",
    "\n",
    "plt.figure(figsize=(8, 5))\n",
    "plt.plot(x_vals, y_vals, marker='o')\n",
    "plt.title(\"Recurrence Sequence x_n\")\n",
    "plt.xlabel(\"n\")\n",
    "plt.ylabel(\"x_n\")\n",
    "plt.grid(True)\n",
    "plt.show()"
   ]
  }
 ],
 "metadata": {},
 "nbformat": 4,
 "nbformat_minor": 2
}