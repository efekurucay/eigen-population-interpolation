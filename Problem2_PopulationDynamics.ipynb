# Problem 2 – Predator-Prey Population Dynamics

import numpy as np
import matplotlib.pyplot as plt
from numpy.linalg import eig

# Given:
A = np.array([[0.3, 0.4],
              [-0.3, 1.1]])
X0 = np.array([30, 35])

# Eigenvalues and eigenvectors
vals, vecs = eig(A)
print("Eigenvalues:", vals)
print("Eigenvectors:\n", vecs)

# Simulate system over time
steps = 30
X = np.zeros((2, steps))
X[:, 0] = X0

for k in range(1, steps):
    X[:, k] = A @ X[:, k-1]

# Plot predator and prey populations
plt.figure(figsize=(10, 5))
plt.plot(range(steps), X[0, :], label="Predator (x)", marker='o')
plt.plot(range(steps), X[1, :], label="Prey (y)", marker='s')
plt.title("Predator-Prey Population Over Time")
plt.xlabel("Months (k)")
plt.ylabel("Population")
plt.legend()
plt.grid(True)
plt.show()

# Long-term behavior
print("\nLong-Term Behavior:")
print("As k → ∞, both populations approach 0 due to eigenvalues < 1")
print("Predator to Prey Ratio →", X[0, -1]/X[1, -1])
