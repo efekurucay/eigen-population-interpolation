{
 "cells": [
  {
   "cell_type": "markdown",
   "metadata": {},
   "source": [
    "# Problem 2 – Predator-Prey Population Dynamics"
   ]
  },
  {
   "cell_type": "code",
   "execution_count": null,
   "metadata": {},
   "outputs": [],
   "source": [
    "import numpy as np\n",
    "import matplotlib.pyplot as plt\n",
    "from numpy.linalg import eig\n",
    "\n",
    "A = np.array([[0.3, 0.4], [-0.3, 1.1]])\n",
    "X0 = np.array([30, 35])\n",
    "\n",
    "vals, vecs = eig(A)\n",
    "print(\"Eigenvalues:\", vals)\n",
    "print(\"Eigenvectors:\n\", vecs)\n",
    "\n",
    "steps = 30\n",
    "X = np.zeros((2, steps))\n",
    "X[:, 0] = X0\n",
    "\n",
    "for k in range(1, steps):\n",
    "    X[:, k] = A @ X[:, k-1]\n",
    "\n",
    "plt.figure(figsize=(10, 5))\n",
    "plt.plot(range(steps), X[0, :], label=\"Predator (x)\", marker='o')\n",
    "plt.plot(range(steps), X[1, :], label=\"Prey (y)\", marker='s')\n",
    "plt.title(\"Predator-Prey Population Over Time\")\n",
    "plt.xlabel(\"Months (k)\")\n",
    "plt.ylabel(\"Population\")\n",
    "plt.legend()\n",
    "plt.grid(True)\n",
    "plt.show()\n",
    "\n",
    "print(\"\\nLong-Term Behavior:\")\n",
    "print(\"As k → ∞, both populations approach 0 due to eigenvalues < 1\")\n",
    "print(\"Predator to Prey Ratio →\", X[0, -1]/X[1, -1])"
   ]
  }
 ],
 "metadata": {},
 "nbformat": 4,
 "nbformat_minor": 2
}