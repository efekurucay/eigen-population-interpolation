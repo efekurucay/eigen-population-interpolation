{
 "cells": [
  {
   "cell_type": "markdown",
   "metadata": {},
   "source": [
    "# Problem 3 – Lagrange Polynomial Interpolation"
   ]
  },
  {
   "cell_type": "code",
   "execution_count": null,
   "metadata": {},
   "outputs": [],
   "source": [
    "import sympy as sp\n",
    "import matplotlib.pyplot as plt\n",
    "\n",
    "x = sp.Symbol('x')\n",
    "points = [(-4, -26), (-3, -15), (1, 9), (2, 10)]\n",
    "n = len(points)\n",
    "L = []\n",
    "for i in range(n):\n",
    "    xi, _ = points[i]\n",
    "    li = 1\n",
    "    for j in range(n):\n",
    "        if i != j:\n",
    "            xj, _ = points[j]\n",
    "            li *= (x - xj) / (xi - xj)\n",
    "    L.append(sp.simplify(li))\n",
    "\n",
    "for i, Li in enumerate(L):\n",
    "    print(f\"L{i}(x) = {Li}\")\n",
    "\n",
    "P = sum(points[i][1] * L[i] for i in range(n))\n",
    "P = sp.expand(P)\n",
    "print(\"\\nInterpolated Polynomial P(x):\")\n",
    "sp.pprint(P)\n",
    "\n",
    "f = sp.lambdify(x, P, modules='numpy')\n",
    "x_vals = list(range(-5, 4))\n",
    "y_vals = [f(val) for val in x_vals]\n",
    "\n",
    "plt.figure(figsize=(8, 5))\n",
    "plt.plot(x_vals, y_vals, label='P(x)', color='blue')\n",
    "plt.scatter(*zip(*points), color='red', zorder=5, label='Given Points')\n",
    "plt.title(\"Lagrange Interpolation Polynomial\")\n",
    "plt.xlabel(\"x\")\n",
    "plt.ylabel(\"P(x)\")\n",
    "plt.legend()\n",
    "plt.grid(True)\n",
    "plt.show()"
   ]
  }
 ],
 "metadata": {},
 "nbformat": 4,
 "nbformat_minor": 2
}