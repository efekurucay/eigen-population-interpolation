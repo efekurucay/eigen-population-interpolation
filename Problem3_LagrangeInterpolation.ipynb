# Problem 3 – Lagrange Polynomial Interpolation

import sympy as sp
import matplotlib.pyplot as plt

# Define symbols
x = sp.Symbol('x')

# Given points
points = [(-4, -26), (-3, -15), (1, 9), (2, 10)]
n = len(points)

# Lagrange basis polynomials
L = []
for i in range(n):
    xi, _ = points[i]
    li = 1
    for j in range(n):
        if i != j:
            xj, _ = points[j]
            li *= (x - xj) / (xi - xj)
    L.append(sp.simplify(li))

# Display basis polynomials
for i, Li in enumerate(L):
    print(f"L{i}(x) = {Li}")

# Combine to form interpolation polynomial
P = sum(points[i][1] * L[i] for i in range(n))
P = sp.expand(P)
print("\nInterpolated Polynomial P(x):")
sp.pprint(P)

# Plot
f = sp.lambdify(x, P, modules='numpy')
x_vals = list(range(-5, 4))
y_vals = [f(val) for val in x_vals]

plt.figure(figsize=(8, 5))
plt.plot(x_vals, y_vals, label='P(x)', color='blue')
plt.scatter(*zip(*points), color='red', zorder=5, label='Given Points')
plt.title("Lagrange Interpolation Polynomial")
plt.xlabel("x")
plt.ylabel("P(x)")
plt.legend()
plt.grid(True)
plt.show()
